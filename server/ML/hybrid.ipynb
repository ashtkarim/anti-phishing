{
 "cells": [
  {
   "cell_type": "code",
   "execution_count": 32,
   "id": "3b5e20da",
   "metadata": {},
   "outputs": [],
   "source": [
    "import pandas as pd\n",
    "import matplotlib.pyplot as plt\n",
    "import numpy as np\n",
    "from sklearn.model_selection import train_test_split\n",
    "from sklearn.preprocessing import *\n",
    "from sklearn.pipeline import Pipeline,make_pipeline\n",
    "from sklearn.metrics import classification_report\n"
   ]
  },
  {
   "cell_type": "code",
   "execution_count": 33,
   "id": "392a9267",
   "metadata": {},
   "outputs": [
    {
     "data": {
      "text/html": [
       "<div>\n",
       "<style scoped>\n",
       "    .dataframe tbody tr th:only-of-type {\n",
       "        vertical-align: middle;\n",
       "    }\n",
       "\n",
       "    .dataframe tbody tr th {\n",
       "        vertical-align: top;\n",
       "    }\n",
       "\n",
       "    .dataframe thead th {\n",
       "        text-align: right;\n",
       "    }\n",
       "</style>\n",
       "<table border=\"1\" class=\"dataframe\">\n",
       "  <thead>\n",
       "    <tr style=\"text-align: right;\">\n",
       "      <th></th>\n",
       "      <th>url_length</th>\n",
       "      <th>tiny_url</th>\n",
       "      <th>pref_suf</th>\n",
       "      <th>https_token</th>\n",
       "      <th>iframe</th>\n",
       "      <th>anchor_tag</th>\n",
       "      <th>Favicon</th>\n",
       "      <th>SFH</th>\n",
       "      <th>requestURL</th>\n",
       "      <th>LinksInTags</th>\n",
       "      <th>label</th>\n",
       "    </tr>\n",
       "  </thead>\n",
       "  <tbody>\n",
       "    <tr>\n",
       "      <th>0</th>\n",
       "      <td>34</td>\n",
       "      <td>1</td>\n",
       "      <td>1</td>\n",
       "      <td>0</td>\n",
       "      <td>1</td>\n",
       "      <td>1.000000</td>\n",
       "      <td>1</td>\n",
       "      <td>0</td>\n",
       "      <td>1.0</td>\n",
       "      <td>1.000000</td>\n",
       "      <td>1</td>\n",
       "    </tr>\n",
       "    <tr>\n",
       "      <th>1</th>\n",
       "      <td>40</td>\n",
       "      <td>1</td>\n",
       "      <td>1</td>\n",
       "      <td>1</td>\n",
       "      <td>1</td>\n",
       "      <td>1.000000</td>\n",
       "      <td>1</td>\n",
       "      <td>0</td>\n",
       "      <td>1.0</td>\n",
       "      <td>0.666667</td>\n",
       "      <td>0</td>\n",
       "    </tr>\n",
       "    <tr>\n",
       "      <th>2</th>\n",
       "      <td>48</td>\n",
       "      <td>1</td>\n",
       "      <td>1</td>\n",
       "      <td>1</td>\n",
       "      <td>1</td>\n",
       "      <td>1.000000</td>\n",
       "      <td>1</td>\n",
       "      <td>1</td>\n",
       "      <td>1.0</td>\n",
       "      <td>0.777778</td>\n",
       "      <td>0</td>\n",
       "    </tr>\n",
       "    <tr>\n",
       "      <th>3</th>\n",
       "      <td>33</td>\n",
       "      <td>1</td>\n",
       "      <td>1</td>\n",
       "      <td>1</td>\n",
       "      <td>1</td>\n",
       "      <td>0.948276</td>\n",
       "      <td>1</td>\n",
       "      <td>0</td>\n",
       "      <td>1.0</td>\n",
       "      <td>0.827586</td>\n",
       "      <td>0</td>\n",
       "    </tr>\n",
       "    <tr>\n",
       "      <th>4</th>\n",
       "      <td>66</td>\n",
       "      <td>1</td>\n",
       "      <td>1</td>\n",
       "      <td>0</td>\n",
       "      <td>1</td>\n",
       "      <td>0.000000</td>\n",
       "      <td>1</td>\n",
       "      <td>1</td>\n",
       "      <td>0.0</td>\n",
       "      <td>0.000000</td>\n",
       "      <td>0</td>\n",
       "    </tr>\n",
       "  </tbody>\n",
       "</table>\n",
       "</div>"
      ],
      "text/plain": [
       "   url_length  tiny_url  pref_suf  https_token  iframe  anchor_tag  Favicon  \\\n",
       "0          34         1         1            0       1    1.000000        1   \n",
       "1          40         1         1            1       1    1.000000        1   \n",
       "2          48         1         1            1       1    1.000000        1   \n",
       "3          33         1         1            1       1    0.948276        1   \n",
       "4          66         1         1            0       1    0.000000        1   \n",
       "\n",
       "   SFH  requestURL  LinksInTags  label  \n",
       "0    0         1.0     1.000000      1  \n",
       "1    0         1.0     0.666667      0  \n",
       "2    1         1.0     0.777778      0  \n",
       "3    0         1.0     0.827586      0  \n",
       "4    1         0.0     0.000000      0  "
      ]
     },
     "execution_count": 33,
     "metadata": {},
     "output_type": "execute_result"
    }
   ],
   "source": [
    "data0=pd.read_csv(\"DataSet.csv\")\n",
    "data0.head(5)"
   ]
  },
  {
   "cell_type": "code",
   "execution_count": 34,
   "id": "94d12fca",
   "metadata": {},
   "outputs": [
    {
     "data": {
      "text/plain": [
       "((63136, 10), (63136,))"
      ]
     },
     "execution_count": 34,
     "metadata": {},
     "output_type": "execute_result"
    }
   ],
   "source": [
    "y=data0['label']\n",
    "x=data0.drop('label',axis=1)\n",
    "x.shape, y.shape"
   ]
  },
  {
   "cell_type": "code",
   "execution_count": 35,
   "id": "5566eacf",
   "metadata": {},
   "outputs": [
    {
     "data": {
      "text/plain": [
       "((47352, 10), (15784, 10))"
      ]
     },
     "execution_count": 35,
     "metadata": {},
     "output_type": "execute_result"
    }
   ],
   "source": [
    "x_train,x_test,y_train,y_test=train_test_split(x,y)\n",
    "x_train.shape , x_test.shape"
   ]
  },
  {
   "cell_type": "code",
   "execution_count": 36,
   "id": "6077a22d",
   "metadata": {},
   "outputs": [],
   "source": [
    "tab=[]"
   ]
  },
  {
   "cell_type": "markdown",
   "id": "3d4b7fec",
   "metadata": {},
   "source": [
    "# XGBoost"
   ]
  },
  {
   "cell_type": "code",
   "execution_count": 37,
   "id": "d7fc70c3",
   "metadata": {},
   "outputs": [],
   "source": [
    "from  xgboost  import XGBClassifier\n",
    "\n",
    "module1=XGBClassifier(learning_rate=0.4,max_depth=7)\n",
    "\n",
    "tab.append(('xgb',module1))\n"
   ]
  },
  {
   "cell_type": "markdown",
   "id": "1f9a5c88",
   "metadata": {},
   "source": [
    "# random forest"
   ]
  },
  {
   "cell_type": "code",
   "execution_count": 39,
   "id": "29c67008",
   "metadata": {},
   "outputs": [],
   "source": [
    "from sklearn.ensemble import RandomForestClassifier\n",
    " \n",
    "module3 = RandomForestClassifier(max_depth = 5)\n",
    "\n",
    "tab.append(('rf',module3))"
   ]
  },
  {
   "cell_type": "markdown",
   "id": "0b0fd0f5",
   "metadata": {},
   "source": [
    "# k-Nearest Neighbors"
   ]
  },
  {
   "cell_type": "code",
   "execution_count": 40,
   "id": "da3dd138",
   "metadata": {},
   "outputs": [],
   "source": [
    "from sklearn.neighbors import KNeighborsClassifier\n",
    "\n",
    "module4=KNeighborsClassifier(n_neighbors=5)\n",
    "\n",
    "tab.append(('knn',module4))"
   ]
  },
  {
   "cell_type": "markdown",
   "id": "eb571072",
   "metadata": {},
   "source": [
    "#  HYBRID MODEL"
   ]
  },
  {
   "cell_type": "code",
   "execution_count": 41,
   "id": "4820703c",
   "metadata": {},
   "outputs": [
    {
     "name": "stdout",
     "output_type": "stream",
     "text": [
      "              precision    recall  f1-score   support\n",
      "\n",
      "           0       0.91      0.90      0.91      9263\n",
      "           1       0.87      0.87      0.87      6521\n",
      "\n",
      "    accuracy                           0.89     15784\n",
      "   macro avg       0.89      0.89      0.89     15784\n",
      "weighted avg       0.89      0.89      0.89     15784\n",
      "\n",
      "MCC = 0.7763881613973777\n"
     ]
    }
   ],
   "source": [
    "from sklearn.ensemble import StackingClassifier\n",
    "from sklearn.neural_network import MLPClassifier\n",
    "\n",
    "\n",
    "model_hybrid = StackingClassifier(tab, MLPClassifier(hidden_layer_sizes=(100,100,100)))\n",
    "# model_hybrid=make_pipeline(StandardScaler(),model)\n",
    "model_hybrid.fit(x_train, y_train)\n",
    "\n",
    "y_pred = model_hybrid.predict(x_test)\n",
    "print(classification_report(y_true=y_test,y_pred=y_pred))\n",
    "\n",
    "from sklearn.metrics import matthews_corrcoef\n",
    "print(f\"MCC = {matthews_corrcoef(y_true=y_test,y_pred=y_pred)}\")\n",
    "\n",
    "\n",
    "import winsound\n",
    "winsound.PlaySound(\"SystemAsterisk\", winsound.SND_ALIAS)"
   ]
  },
  {
   "cell_type": "code",
   "execution_count": 42,
   "id": "d5c57133",
   "metadata": {},
   "outputs": [
    {
     "data": {
      "image/png": "[encoded data removed]",
      "text/plain": [
       "<Figure size 432x288 with 2 Axes>"
      ]
     },
     "metadata": {
      "needs_background": "light"
     },
     "output_type": "display_data"
    }
   ],
   "source": [
    "import matplotlib.pyplot  as plt\n",
    "from sklearn.metrics import ConfusionMatrixDisplay,confusion_matrix\n",
    "cm=confusion_matrix(y_test,y_pred)\n",
    "dis=ConfusionMatrixDisplay(confusion_matrix=cm,display_labels=model_hybrid.classes_)\n",
    "dis.plot()\n",
    "plt.show()"
   ]
  },
  {
   "cell_type": "code",
   "execution_count": 43,
   "id": "b9161822",
   "metadata": {},
   "outputs": [],
   "source": [
    "import pickle\n",
    "pickle.dump(model_hybrid, open(\"hybrid1.pickle.dat\", \"wb\"))"
   ]
  },
  {
   "cell_type": "code",
   "execution_count": 44,
   "id": "6af5cfde",
   "metadata": {},
   "outputs": [
    {
     "name": "stdout",
     "output_type": "stream",
     "text": [
      "get requests !!!\n",
      "[57, 1, 1, 1, 1, 0.8120300751879699, 0, 0, 0.0, 0.06818181818181818]\n",
      "la resultat de lien https://github.com/scikit-learn/scikit-learn/issues/21577 est phishing\n"
     ]
    },
    {
     "name": "stderr",
     "output_type": "stream",
     "text": [
      "c:\\Users\\karim\\anaconda3\\lib\\site-packages\\sklearn\\base.py:450: UserWarning: X does not have valid feature names, but RandomForestClassifier was fitted with feature names\n",
      "  warnings.warn(\n",
      "c:\\Users\\karim\\anaconda3\\lib\\site-packages\\sklearn\\base.py:450: UserWarning: X does not have valid feature names, but KNeighborsClassifier was fitted with feature names\n",
      "  warnings.warn(\n"
     ]
    }
   ],
   "source": [
    "from Detection import FeaturesExtraction\n",
    "import requests\n",
    "import numpy as np\n",
    "\n",
    "url=input(\"donner un lien : \")\n",
    "result=\" RIEN \"\n",
    "try:\n",
    "    \n",
    "    response=requests.get(url,timeout=5)\n",
    "    print(\"get requests !!!\")\n",
    "    lien=FeaturesExtraction(url,response)\n",
    "    # features_names=['url_length','tiny_url','pref_suf','https_token','iframe','anchor_tag','Favicon','SFH','requestURL','LinksInTags']\n",
    "    # l=pd.DataFrame(lien,columns=features_names)\n",
    "    print(lien)\n",
    "    lien=np.array(lien).reshape(1,-1)\n",
    "\n",
    "    if int(model_hybrid.predict(lien))==0:\n",
    "        result=\"phishing\"\n",
    "    else:\n",
    "        result=\"legitimate\"\n",
    "\n",
    "except Exception as e:\n",
    "    print(f'ERROR TO GET : {url}')\n",
    "\n",
    "print (f'la resultat de lien {url} est {result}')"
   ]
  }
 ],
 "metadata": {
  "kernelspec": {
   "display_name": "Python 3.9.12 ('base')",
   "language": "python",
   "name": "python3"
  },
  "language_info": {
   "codemirror_mode": {
    "name": "ipython",
    "version": 3
   },
   "file_extension": ".py",
   "mimetype": "text/x-python",
   "name": "python",
   "nbconvert_exporter": "python",
   "pygments_lexer": "ipython3",
   "version": "3.9.12"
  },
  "vscode": {
   "interpreter": {
    "hash": "24a831a009035fcc4b5bc1731ec2f041984e8b2b8b95e0e3a1476be848366ca6"
   }
  }
 },
 "nbformat": 4,
 "nbformat_minor": 5
}
